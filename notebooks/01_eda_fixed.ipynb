{
 "cells": [
  {
   "cell_type": "markdown",
   "metadata": {},
   "source": [
    "# 1단계: 탐색적 데이터 분석 (EDA)\n",
    "\n",
    "## 📊 California Housing Dataset 분석\n",
    "\n",
    "이 노트북에서는 California Housing Dataset을 로드하고 기초적인 탐색적 데이터 분석을 수행합니다.\n",
    "\n",
    "### 학습 목표\n",
    "1. California Housing Dataset 이해하기\n",
    "2. 데이터의 기본 통계량 파악\n",
    "3. 결측값 및 이상치 확인\n",
    "4. 특성 간의 상관관계 분석\n",
    "5. 데이터 시각화"
   ]
  },
  {
   "cell_type": "code",
   "execution_count": null,
   "metadata": {},
   "outputs": [],
   "source": [
    "# 필요한 라이브러리 import\n",
    "import numpy as np\n",
    "import pandas as pd\n",
    "import matplotlib.pyplot as plt\n",
    "import seaborn as sns\n",
    "import plotly.express as px\n",
    "from sklearn.datasets import fetch_california_housing\n",
    "import sys\n",
    "import os\n",
    "\n",
    "# 상위 디렉토리의 src 폴더를 경로에 추가\n",
    "sys.path.append('../src')\n",
    "\n",
    "# 한글 폰트 설정\n",
    "try:\n",
    "    from font_setup import setup_korean_font\n",
    "    setup_korean_font()\n",
    "except:\n",
    "    # 한글 폰트 설정이 실패하면 영어로 표시\n",
    "    plt.rcParams['font.family'] = 'DejaVu Sans'\n",
    "    print(\"⚠️ Korean font setup failed. Using English labels.\")\n",
    "\n",
    "# 시각화 설정\n",
    "plt.style.use('default')\n",
    "sns.set_palette(\"husl\")\n",
    "%matplotlib inline\n",
    "\n",
    "# pandas 표시 옵션\n",
    "pd.set_option('display.max_columns', None)\n",
    "pd.set_option('display.precision', 3)\n",
    "\n",
    "print(\"✅ Library import completed\")"
   ]
  },
  {
   "cell_type": "code",
   "execution_count": null,
   "metadata": {},
   "outputs": [],
   "source": [
    "# California Housing Dataset 로드\n",
    "california_housing = fetch_california_housing()\n",
    "\n",
    "# 데이터셋 정보 출력\n",
    "print(\"📈 California Housing Dataset\")\n",
    "print(f\"Number of features: {len(california_housing.feature_names)}\")\n",
    "print(f\"Number of samples: {california_housing.data.shape[0]}\")\n",
    "print(f\"Target variable: {california_housing.target_names}\")\n",
    "\n",
    "print(\"\\n🏷️ Feature names:\")\n",
    "for i, feature in enumerate(california_housing.feature_names):\n",
    "    print(f\"{i+1:2d}. {feature}\")"
   ]
  },
  {
   "cell_type": "code",
   "execution_count": null,
   "metadata": {},
   "outputs": [],
   "source": [
    "# 데이터프레임 생성\n",
    "df = pd.DataFrame(\n",
    "    california_housing.data, \n",
    "    columns=california_housing.feature_names\n",
    ")\n",
    "df['MedHouseVal'] = california_housing.target\n",
    "\n",
    "print(\"📊 DataFrame basic information\")\n",
    "print(f\"Data shape: {df.shape}\")\n",
    "print(f\"Memory usage: {df.memory_usage(deep=True).sum() / 1024**2:.2f} MB\")\n",
    "\n",
    "# 처음 5행 표시\n",
    "print(\"\\n🔍 First 5 rows:\")\n",
    "df.head()"
   ]
  },
  {
   "cell_type": "code",
   "execution_count": null,
   "metadata": {},
   "outputs": [],
   "source": [
    "# 데이터셋 설명 출력\n",
    "print(\"📝 Dataset description:\")\n",
    "print(california_housing.DESCR[:1500])  # 처음 1500자만 표시"
   ]
  },
  {
   "cell_type": "code",
   "execution_count": null,
   "metadata": {},
   "outputs": [],
   "source": [
    "# 기본 통계량 확인\n",
    "print(\"📊 Basic statistics\")\n",
    "df.describe()"
   ]
  },
  {
   "cell_type": "code",
   "execution_count": null,
   "metadata": {},
   "outputs": [],
   "source": [
    "# 데이터 타입 및 결측값 확인\n",
    "print(\"🔍 Data types and missing values\")\n",
    "info_df = pd.DataFrame({\n",
    "    'Data Type': df.dtypes,\n",
    "    'Non-Null Count': df.count(),\n",
    "    'Null Count': df.isnull().sum(),\n",
    "    'Null Percentage': (df.isnull().sum() / len(df) * 100).round(2)\n",
    "})\n",
    "print(info_df)"
   ]
  },
  {
   "cell_type": "code",
   "execution_count": null,
   "metadata": {},
   "outputs": [],
   "source": [
    "# 상관관계 매트릭스\n",
    "plt.figure(figsize=(12, 10))\n",
    "correlation_matrix = df.corr()\n",
    "\n",
    "# 히트맵 생성\n",
    "mask = np.triu(np.ones_like(correlation_matrix, dtype=bool))\n",
    "sns.heatmap(\n",
    "    correlation_matrix, \n",
    "    mask=mask,\n",
    "    annot=True, \n",
    "    cmap='RdBu_r', \n",
    "    center=0,\n",
    "    fmt='.3f',\n",
    "    square=True,\n",
    "    cbar_kws={\"shrink\": .8}\n",
    ")\n",
    "plt.title('Feature Correlation Matrix', fontsize=16, fontweight='bold')\n",
    "plt.tight_layout()\n",
    "plt.show()\n",
    "\n",
    "# 타겟과 높은 상관관계를 가진 특성 확인\n",
    "target_corr = correlation_matrix['MedHouseVal'].abs().sort_values(ascending=False)\n",
    "print(\"\\n🎯 Correlation with target (House Price):\")\n",
    "for feature, corr in target_corr.items():\n",
    "    if feature != 'MedHouseVal':\n",
    "        print(f\"{feature:15s}: {corr:.3f}\")"
   ]
  },
  {
   "cell_type": "code",
   "execution_count": null,
   "metadata": {},
   "outputs": [],
   "source": [
    "# 분포 시각화 - 히스토그램\n",
    "fig, axes = plt.subplots(3, 3, figsize=(15, 12))\n",
    "axes = axes.flatten()\n",
    "\n",
    "for i, column in enumerate(df.columns):\n",
    "    axes[i].hist(df[column], bins=50, alpha=0.7, edgecolor='black', linewidth=0.5)\n",
    "    axes[i].set_title(f'{column} Distribution', fontweight='bold')\n",
    "    axes[i].set_xlabel(column)\n",
    "    axes[i].set_ylabel('Frequency')\n",
    "    axes[i].grid(True, alpha=0.3)\n",
    "\n",
    "plt.tight_layout()\n",
    "plt.suptitle('California Housing Dataset - Feature Distributions', y=1.02, fontsize=16, fontweight='bold')\n",
    "plt.show()"
   ]
  },
  {
   "cell_type": "code",
   "execution_count": null,
   "metadata": {},
   "outputs": [],
   "source": [
    "# 박스플롯으로 이상치 확인\n",
    "fig, axes = plt.subplots(3, 3, figsize=(15, 12))\n",
    "axes = axes.flatten()\n",
    "\n",
    "for i, column in enumerate(df.columns):\n",
    "    bp = axes[i].boxplot(df[column], patch_artist=True)\n",
    "    bp['boxes'][0].set_facecolor('lightblue')\n",
    "    bp['boxes'][0].set_alpha(0.7)\n",
    "    axes[i].set_title(f'{column} Boxplot', fontweight='bold')\n",
    "    axes[i].set_ylabel(column)\n",
    "    axes[i].grid(True, alpha=0.3)\n",
    "\n",
    "plt.tight_layout()\n",
    "plt.suptitle('Outlier Detection - Boxplots', y=1.02, fontsize=16, fontweight='bold')\n",
    "plt.show()"
   ]
  },
  {
   "cell_type": "code",
   "execution_count": null,
   "metadata": {},
   "outputs": [],
   "source": [
    "# 지리적 데이터 시각화 (위도, 경도 활용)\n",
    "plt.figure(figsize=(12, 8))\n",
    "scatter = plt.scatter(\n",
    "    df['Longitude'], \n",
    "    df['Latitude'], \n",
    "    c=df['MedHouseVal'], \n",
    "    cmap='viridis', \n",
    "    alpha=0.6,\n",
    "    s=20\n",
    ")\n",
    "plt.colorbar(scatter, label='House Price (unit: $100K)')\n",
    "plt.xlabel('Longitude')\n",
    "plt.ylabel('Latitude')\n",
    "plt.title('California House Price Geographic Distribution', fontsize=14, fontweight='bold')\n",
    "plt.grid(True, alpha=0.3)\n",
    "plt.tight_layout()\n",
    "plt.show()"
   ]
  },
  {
   "cell_type": "code",
   "execution_count": null,
   "metadata": {},
   "outputs": [],
   "source": [
    "# 인구 밀도와 주택 가격의 관계\n",
    "# 인구 밀도 = Population / (평균 가구당 인원 수 * 총 가구 수)\n",
    "df['PopulationDensity'] = df['Population'] / (df['AveOccup'] * df['HouseAge'])\n",
    "\n",
    "plt.figure(figsize=(12, 5))\n",
    "\n",
    "# 서브플롯 1: 인구 밀도 vs 주택 가격\n",
    "plt.subplot(1, 2, 1)\n",
    "plt.scatter(df['PopulationDensity'], df['MedHouseVal'], alpha=0.5, s=10)\n",
    "plt.xlabel('Population Density')\n",
    "plt.ylabel('House Price (unit: $100K)')\n",
    "plt.title('Population Density vs House Price')\n",
    "plt.grid(True, alpha=0.3)\n",
    "\n",
    "# 서브플롯 2: 평균 소득 vs 주택 가격\n",
    "plt.subplot(1, 2, 2)\n",
    "plt.scatter(df['MedInc'], df['MedHouseVal'], alpha=0.5, s=10, color='orange')\n",
    "plt.xlabel('Median Income (unit: $10K)')\n",
    "plt.ylabel('House Price (unit: $100K)')\n",
    "plt.title('Median Income vs House Price')\n",
    "plt.grid(True, alpha=0.3)\n",
    "\n",
    "plt.tight_layout()\n",
    "plt.show()\n",
    "\n",
    "# 상관관계 확인\n",
    "print(f\"Population density vs House price correlation: {df['PopulationDensity'].corr(df['MedHouseVal']):.3f}\")\n",
    "print(f\"Median income vs House price correlation: {df['MedInc'].corr(df['MedHouseVal']):.3f}\")"
   ]
  },
  {
   "cell_type": "code",
   "execution_count": null,
   "metadata": {},
   "outputs": [],
   "source": [
    "# 주요 통계 요약\n",
    "print(\"📋 Key Findings Summary\")\n",
    "print(\"=\" * 50)\n",
    "print(f\"• Total data points: {len(df):,}\")\n",
    "print(f\"• Number of features: {len(df.columns)-1}\")\n",
    "print(f\"• Missing values: {'None' if df.isnull().sum().sum() == 0 else 'Present'}\")\n",
    "print(f\"• House price range: ${df['MedHouseVal'].min():.1f}K ~ ${df['MedHouseVal'].max():.1f}K\")\n",
    "print(f\"• Average house price: ${df['MedHouseVal'].mean():.1f}K\")\n",
    "print(f\"• Median income range: ${df['MedInc'].min():.1f}K ~ ${df['MedInc'].max():.1f}K\")\n",
    "\n",
    "print(\"\\n🔍 Important features (based on target correlation):\")\n",
    "important_features = target_corr.head(4).index.tolist()\n",
    "important_features.remove('MedHouseVal')\n",
    "for i, feature in enumerate(important_features, 1):\n",
    "    corr_value = target_corr[feature]\n",
    "    print(f\"{i}. {feature}: {corr_value:.3f}\")\n",
    "\n",
    "print(\"\\n✅ EDA completed! Next step: Compare normalization effects.\")"
   ]
  },
  {
   "cell_type": "code",
   "execution_count": null,
   "metadata": {},
   "outputs": [],
   "source": [
    "# 데이터 저장 (다음 단계에서 사용)\n",
    "df.to_csv('../data/california_housing_processed.csv', index=False)\n",
    "print(\"💾 Processed data saved to 'data/california_housing_processed.csv'\")"
   ]
  }
 ],
 "metadata": {
  "kernelspec": {
   "display_name": "Python 3",
   "language": "python",
   "name": "python3"
  },
  "language_info": {
   "codemirror_mode": {
    "name": "ipython",
    "version": 3
   },
   "file_extension": ".py",
   "mimetype": "text/x-python",
   "name": "python",
   "nbconvert_exporter": "python",
   "pygments_lexer": "ipython3",
   "version": "3.8.5"
  }
 },
 "nbformat": 4,
 "nbformat_minor": 4
}